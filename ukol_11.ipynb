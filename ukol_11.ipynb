{
 "cells": [
  {
   "cell_type": "code",
   "execution_count": 1,
   "metadata": {},
   "outputs": [],
   "source": [
    "import pandas\n",
    "import matplotlib.pyplot as plt"
   ]
  },
  {
   "cell_type": "code",
   "execution_count": 2,
   "metadata": {},
   "outputs": [],
   "source": [
    "platy = pandas.read_csv(\"platy_2021_02.csv\", index_col='cislo_zamestnance')\n",
    "plt.show()"
   ]
  },
  {
   "cell_type": "code",
   "execution_count": 3,
   "metadata": {},
   "outputs": [
    {
     "data": {
      "image/png": "[encoded data removed]",
      "text/plain": [
       "<Figure size 640x480 with 1 Axes>"
      ]
     },
     "metadata": {},
     "output_type": "display_data"
    }
   ],
   "source": [
    "platy.hist(bins=[30000, 32000,34000, 36000, 38000, 40000, 42000, 44000, 46000, 48000, 50000, 52000, 54000, 56000, 58000, 60000], color= 'orange', edgecolor='red')\n",
    "plt.show()"
   ]
  },
  {
   "cell_type": "code",
   "execution_count": 4,
   "metadata": {},
   "outputs": [
    {
     "data": {
      "text/plain": [
       "<bound method NDFrame.head of              Region  Country      City  Day  AvgTemperature\n",
       "0            Africa  Algeria   Algiers    1            62.0\n",
       "1            Africa  Algeria   Algiers    2            62.2\n",
       "2            Africa  Algeria   Algiers    3            65.7\n",
       "3            Africa  Algeria   Algiers    4            69.8\n",
       "4            Africa  Algeria   Algiers    5            63.8\n",
       "...             ...      ...       ...  ...             ...\n",
       "8785  North America       US  Cheyenne   26            51.7\n",
       "8786  North America       US  Cheyenne   27            55.5\n",
       "8787  North America       US  Cheyenne   28            38.5\n",
       "8788  North America       US  Cheyenne   29            36.8\n",
       "8789  North America       US  Cheyenne   30            36.9\n",
       "\n",
       "[8790 rows x 5 columns]>"
      ]
     },
     "execution_count": 4,
     "metadata": {},
     "output_type": "execute_result"
    }
   ],
   "source": [
    "temperature = pandas.read_csv(\"temperature.csv\")\n",
    "temperature.head"
   ]
  },
  {
   "cell_type": "code",
   "execution_count": 5,
   "metadata": {},
   "outputs": [
    {
     "name": "stdout",
     "output_type": "stream",
     "text": [
      "             Region Country         City  Day  AvgTemperature\n",
      "1140           Asia   Japan        Tokyo    1            59.1\n",
      "1141           Asia   Japan        Tokyo    2            62.3\n",
      "1142           Asia   Japan        Tokyo    3            64.1\n",
      "1143           Asia   Japan        Tokyo    4            59.6\n",
      "1144           Asia   Japan        Tokyo    5            57.0\n",
      "...             ...     ...          ...  ...             ...\n",
      "5035  North America      US  Miami Beach   26            73.5\n",
      "5036  North America      US  Miami Beach   27            73.1\n",
      "5037  North America      US  Miami Beach   28            77.5\n",
      "5038  North America      US  Miami Beach   29            77.7\n",
      "5039  North America      US  Miami Beach   30            78.0\n",
      "\n",
      "[90 rows x 5 columns]\n"
     ]
    }
   ],
   "source": [
    "new_data = temperature[temperature[\"City\"].isin([\"Helsinki\", \"Miami Beach\", \"Tokyo\"])]\n",
    "print(new_data)"
   ]
  },
  {
   "cell_type": "code",
   "execution_count": 6,
   "metadata": {},
   "outputs": [],
   "source": [
    "new_data.to_csv('new_data.csv', index=False)"
   ]
  },
  {
   "cell_type": "code",
   "execution_count": 7,
   "metadata": {},
   "outputs": [
    {
     "data": {
      "text/html": [
       "<div>\n",
       "<style scoped>\n",
       "    .dataframe tbody tr th:only-of-type {\n",
       "        vertical-align: middle;\n",
       "    }\n",
       "\n",
       "    .dataframe tbody tr th {\n",
       "        vertical-align: top;\n",
       "    }\n",
       "\n",
       "    .dataframe thead th {\n",
       "        text-align: right;\n",
       "    }\n",
       "</style>\n",
       "<table border=\"1\" class=\"dataframe\">\n",
       "  <thead>\n",
       "    <tr style=\"text-align: right;\">\n",
       "      <th></th>\n",
       "      <th>Region</th>\n",
       "      <th>Country</th>\n",
       "      <th>City</th>\n",
       "      <th>Day</th>\n",
       "      <th>AvgTemperature</th>\n",
       "    </tr>\n",
       "  </thead>\n",
       "  <tbody>\n",
       "    <tr>\n",
       "      <th>0</th>\n",
       "      <td>Asia</td>\n",
       "      <td>Japan</td>\n",
       "      <td>Tokyo</td>\n",
       "      <td>1</td>\n",
       "      <td>59.1</td>\n",
       "    </tr>\n",
       "    <tr>\n",
       "      <th>1</th>\n",
       "      <td>Asia</td>\n",
       "      <td>Japan</td>\n",
       "      <td>Tokyo</td>\n",
       "      <td>2</td>\n",
       "      <td>62.3</td>\n",
       "    </tr>\n",
       "    <tr>\n",
       "      <th>2</th>\n",
       "      <td>Asia</td>\n",
       "      <td>Japan</td>\n",
       "      <td>Tokyo</td>\n",
       "      <td>3</td>\n",
       "      <td>64.1</td>\n",
       "    </tr>\n",
       "    <tr>\n",
       "      <th>3</th>\n",
       "      <td>Asia</td>\n",
       "      <td>Japan</td>\n",
       "      <td>Tokyo</td>\n",
       "      <td>4</td>\n",
       "      <td>59.6</td>\n",
       "    </tr>\n",
       "    <tr>\n",
       "      <th>4</th>\n",
       "      <td>Asia</td>\n",
       "      <td>Japan</td>\n",
       "      <td>Tokyo</td>\n",
       "      <td>5</td>\n",
       "      <td>57.0</td>\n",
       "    </tr>\n",
       "  </tbody>\n",
       "</table>\n",
       "</div>"
      ],
      "text/plain": [
       "  Region Country   City  Day  AvgTemperature\n",
       "0   Asia   Japan  Tokyo    1            59.1\n",
       "1   Asia   Japan  Tokyo    2            62.3\n",
       "2   Asia   Japan  Tokyo    3            64.1\n",
       "3   Asia   Japan  Tokyo    4            59.6\n",
       "4   Asia   Japan  Tokyo    5            57.0"
      ]
     },
     "execution_count": 7,
     "metadata": {},
     "output_type": "execute_result"
    }
   ],
   "source": [
    "new_data = pandas.read_csv(\"new_data.csv\")\n",
    "new_data.head()"
   ]
  }
 ],
 "metadata": {
  "kernelspec": {
   "display_name": "Python 3",
   "language": "python",
   "name": "python3"
  },
  "language_info": {
   "codemirror_mode": {
    "name": "ipython",
    "version": 3
   },
   "file_extension": ".py",
   "mimetype": "text/x-python",
   "name": "python",
   "nbconvert_exporter": "python",
   "pygments_lexer": "ipython3",
   "version": "3.9.10"
  },
  "orig_nbformat": 4,
  "vscode": {
   "interpreter": {
    "hash": "43c32756aca34ee146017e7462fc9eedcf2f0e75c88017eeded059a56140f8cf"
   }
  }
 },
 "nbformat": 4,
 "nbformat_minor": 2
}
