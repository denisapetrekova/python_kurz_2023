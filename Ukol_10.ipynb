{
 "cells": [
  {
   "cell_type": "code",
   "execution_count": 1,
   "metadata": {},
   "outputs": [],
   "source": [
    "import pandas"
   ]
  },
  {
   "cell_type": "code",
   "execution_count": 2,
   "metadata": {},
   "outputs": [],
   "source": [
    "zam_praha = pandas.read_csv(\"zam_praha.csv\")\n",
    "zam_plzeň = pandas.read_csv(\"zam_plzeň.csv\")\n",
    "zam_liberec = pandas.read_csv(\"zam_plzeň.csv\")"
   ]
  },
  {
   "cell_type": "code",
   "execution_count": 3,
   "metadata": {},
   "outputs": [],
   "source": [
    "zam_praha[\"mesto\"] = \"Praha\"\n",
    "zam_plzeň[\"mesto\"] = \"Plzeň\"\n",
    "zam_liberec[\"mesto\"] = \"Liberec\"\n"
   ]
  },
  {
   "cell_type": "code",
   "execution_count": 4,
   "metadata": {},
   "outputs": [
    {
     "data": {
      "text/plain": [
       "(61, 5)"
      ]
     },
     "execution_count": 4,
     "metadata": {},
     "output_type": "execute_result"
    }
   ],
   "source": [
    "zamestnanci = pandas.concat([zam_praha, zam_plzeň, zam_liberec], ignore_index=True)\n",
    "zamestnanci.head\n",
    "zamestnanci.shape"
   ]
  },
  {
   "cell_type": "code",
   "execution_count": 5,
   "metadata": {},
   "outputs": [],
   "source": [
    "zamestnanci.to_csv('zamestnanci.csv', index=False)"
   ]
  },
  {
   "cell_type": "code",
   "execution_count": 6,
   "metadata": {},
   "outputs": [
    {
     "data": {
      "text/plain": [
       "(43, 2)"
      ]
     },
     "execution_count": 6,
     "metadata": {},
     "output_type": "execute_result"
    }
   ],
   "source": [
    "platy = pandas.read_csv(\"platy_2021_02.csv\")\n",
    "platy.shape"
   ]
  },
  {
   "cell_type": "code",
   "execution_count": 7,
   "metadata": {},
   "outputs": [
    {
     "name": "stdout",
     "output_type": "stream",
     "text": [
      "<class 'pandas.core.frame.DataFrame'>\n",
      "Int64Index: 61 entries, 0 to 60\n",
      "Data columns (total 6 columns):\n",
      " #   Column             Non-Null Count  Dtype  \n",
      "---  ------             --------------  -----  \n",
      " 0   jmeno              61 non-null     object \n",
      " 1   prijimeni          61 non-null     object \n",
      " 2   telefonni_cislo    61 non-null     object \n",
      " 3   cislo_zamestnance  61 non-null     int64  \n",
      " 4   mesto              61 non-null     object \n",
      " 5   plat               49 non-null     float64\n",
      "dtypes: float64(1), int64(1), object(4)\n",
      "memory usage: 3.3+ KB\n"
     ]
    },
    {
     "data": {
      "text/plain": [
       "<bound method NDFrame.head of        jmeno prijimeni   telefonni_cislo  cislo_zamestnance    mesto     plat\n",
       "0      Brian      Hall  +421 949 656 098                 30    Praha  33500.0\n",
       "1      Marta  Kolářová       730 456 163                 32    Praha  53000.0\n",
       "2       John   Moravec       725 092 179                 33    Praha  38400.0\n",
       "3   Dominika   Kopecká       722 747 626                 34    Praha  36800.0\n",
       "4     Marcel     Hájek  +421 902 928 669                 35    Praha      NaN\n",
       "..       ...       ...               ...                ...      ...      ...\n",
       "56     Kayla  Urbanová       737 772 985                 24  Liberec  44200.0\n",
       "57     Roman    Moreno       722 284 985                 26  Liberec  59600.0\n",
       "58  Bohumila     Smith       608 121 912                 27  Liberec  45100.0\n",
       "59   Blažena     Smith  +421 51 828 2591                 28  Liberec  38100.0\n",
       "60   Phillip      Malý       731 594 560                 29  Liberec  48900.0\n",
       "\n",
       "[61 rows x 6 columns]>"
      ]
     },
     "execution_count": 7,
     "metadata": {},
     "output_type": "execute_result"
    }
   ],
   "source": [
    "zamestnanci_s_platy = pandas.merge(zamestnanci, platy, on=['cislo_zamestnance'], how=\"left\")\n",
    "zamestnanci_s_platy.info()\n",
    "zamestnanci_s_platy.head"
   ]
  },
  {
   "cell_type": "code",
   "execution_count": 8,
   "metadata": {},
   "outputs": [
    {
     "data": {
      "text/plain": [
       "12"
      ]
     },
     "execution_count": 8,
     "metadata": {},
     "output_type": "execute_result"
    }
   ],
   "source": [
    "len(zamestnanci_s_platy[zamestnanci_s_platy['plat'].isna()])\n",
    "#zamestnanci_s_platy.isna().sum()"
   ]
  },
  {
   "attachments": {},
   "cell_type": "markdown",
   "metadata": {},
   "source": [
    "12 zaměstnanců již ve firmě nepracuje"
   ]
  },
  {
   "cell_type": "code",
   "execution_count": 9,
   "metadata": {},
   "outputs": [
    {
     "data": {
      "text/html": [
       "<div>\n",
       "<style scoped>\n",
       "    .dataframe tbody tr th:only-of-type {\n",
       "        vertical-align: middle;\n",
       "    }\n",
       "\n",
       "    .dataframe tbody tr th {\n",
       "        vertical-align: top;\n",
       "    }\n",
       "\n",
       "    .dataframe thead th {\n",
       "        text-align: right;\n",
       "    }\n",
       "</style>\n",
       "<table border=\"1\" class=\"dataframe\">\n",
       "  <thead>\n",
       "    <tr style=\"text-align: right;\">\n",
       "      <th></th>\n",
       "      <th>jmeno</th>\n",
       "      <th>prijimeni</th>\n",
       "      <th>telefonni_cislo</th>\n",
       "      <th>cislo_zamestnance</th>\n",
       "      <th>mesto</th>\n",
       "      <th>plat</th>\n",
       "    </tr>\n",
       "  </thead>\n",
       "  <tbody>\n",
       "    <tr>\n",
       "      <th>4</th>\n",
       "      <td>Marcel</td>\n",
       "      <td>Hájek</td>\n",
       "      <td>+421 902 928 669</td>\n",
       "      <td>35</td>\n",
       "      <td>Praha</td>\n",
       "      <td>NaN</td>\n",
       "    </tr>\n",
       "    <tr>\n",
       "      <th>12</th>\n",
       "      <td>Karolína</td>\n",
       "      <td>Short</td>\n",
       "      <td>721 589 083</td>\n",
       "      <td>53</td>\n",
       "      <td>Praha</td>\n",
       "      <td>NaN</td>\n",
       "    </tr>\n",
       "    <tr>\n",
       "      <th>13</th>\n",
       "      <td>Michelle</td>\n",
       "      <td>Vlčková</td>\n",
       "      <td>+421 41 720 7806</td>\n",
       "      <td>54</td>\n",
       "      <td>Praha</td>\n",
       "      <td>NaN</td>\n",
       "    </tr>\n",
       "    <tr>\n",
       "      <th>16</th>\n",
       "      <td>John</td>\n",
       "      <td>Bailey</td>\n",
       "      <td>775 021 116</td>\n",
       "      <td>58</td>\n",
       "      <td>Praha</td>\n",
       "      <td>NaN</td>\n",
       "    </tr>\n",
       "    <tr>\n",
       "      <th>17</th>\n",
       "      <td>William</td>\n",
       "      <td>Shelton</td>\n",
       "      <td>+421 47 745 8219</td>\n",
       "      <td>60</td>\n",
       "      <td>Praha</td>\n",
       "      <td>NaN</td>\n",
       "    </tr>\n",
       "    <tr>\n",
       "      <th>18</th>\n",
       "      <td>Miroslava</td>\n",
       "      <td>Veselá</td>\n",
       "      <td>774 029 254</td>\n",
       "      <td>62</td>\n",
       "      <td>Praha</td>\n",
       "      <td>NaN</td>\n",
       "    </tr>\n",
       "    <tr>\n",
       "      <th>21</th>\n",
       "      <td>Nathan</td>\n",
       "      <td>Svoboda</td>\n",
       "      <td>728 710 923</td>\n",
       "      <td>66</td>\n",
       "      <td>Praha</td>\n",
       "      <td>NaN</td>\n",
       "    </tr>\n",
       "    <tr>\n",
       "      <th>24</th>\n",
       "      <td>Robert</td>\n",
       "      <td>Říha</td>\n",
       "      <td>727 351 984</td>\n",
       "      <td>72</td>\n",
       "      <td>Praha</td>\n",
       "      <td>NaN</td>\n",
       "    </tr>\n",
       "    <tr>\n",
       "      <th>33</th>\n",
       "      <td>Jindřich</td>\n",
       "      <td>Howell</td>\n",
       "      <td>+421 39 043 0948</td>\n",
       "      <td>10</td>\n",
       "      <td>Plzeň</td>\n",
       "      <td>NaN</td>\n",
       "    </tr>\n",
       "    <tr>\n",
       "      <th>34</th>\n",
       "      <td>Alexander</td>\n",
       "      <td>Martinez</td>\n",
       "      <td>721 195 689</td>\n",
       "      <td>13</td>\n",
       "      <td>Plzeň</td>\n",
       "      <td>NaN</td>\n",
       "    </tr>\n",
       "    <tr>\n",
       "      <th>49</th>\n",
       "      <td>Jindřich</td>\n",
       "      <td>Howell</td>\n",
       "      <td>+421 39 043 0948</td>\n",
       "      <td>10</td>\n",
       "      <td>Liberec</td>\n",
       "      <td>NaN</td>\n",
       "    </tr>\n",
       "    <tr>\n",
       "      <th>50</th>\n",
       "      <td>Alexander</td>\n",
       "      <td>Martinez</td>\n",
       "      <td>721 195 689</td>\n",
       "      <td>13</td>\n",
       "      <td>Liberec</td>\n",
       "      <td>NaN</td>\n",
       "    </tr>\n",
       "  </tbody>\n",
       "</table>\n",
       "</div>"
      ],
      "text/plain": [
       "        jmeno prijimeni   telefonni_cislo  cislo_zamestnance    mesto  plat\n",
       "4      Marcel     Hájek  +421 902 928 669                 35    Praha   NaN\n",
       "12   Karolína     Short       721 589 083                 53    Praha   NaN\n",
       "13   Michelle   Vlčková  +421 41 720 7806                 54    Praha   NaN\n",
       "16       John    Bailey       775 021 116                 58    Praha   NaN\n",
       "17    William   Shelton  +421 47 745 8219                 60    Praha   NaN\n",
       "18  Miroslava    Veselá       774 029 254                 62    Praha   NaN\n",
       "21     Nathan   Svoboda       728 710 923                 66    Praha   NaN\n",
       "24     Robert      Říha       727 351 984                 72    Praha   NaN\n",
       "33   Jindřich    Howell  +421 39 043 0948                 10    Plzeň   NaN\n",
       "34  Alexander  Martinez       721 195 689                 13    Plzeň   NaN\n",
       "49   Jindřich    Howell  +421 39 043 0948                 10  Liberec   NaN\n",
       "50  Alexander  Martinez       721 195 689                 13  Liberec   NaN"
      ]
     },
     "execution_count": 9,
     "metadata": {},
     "output_type": "execute_result"
    }
   ],
   "source": [
    "pocet_zamestnancu_nepracuji = zamestnanci_s_platy[zamestnanci_s_platy['plat'].isna()]\n",
    "pocet_zamestnancu_nepracuji\n"
   ]
  },
  {
   "cell_type": "code",
   "execution_count": 10,
   "metadata": {},
   "outputs": [],
   "source": [
    "pocet_zamestnancu_nepracuji.to_csv('pocet_zamestnancu_nepracuji.csv', index=False)"
   ]
  },
  {
   "cell_type": "code",
   "execution_count": 11,
   "metadata": {},
   "outputs": [
    {
     "name": "stdout",
     "output_type": "stream",
     "text": [
      "<class 'pandas.core.frame.DataFrame'>\n",
      "Int64Index: 49 entries, 0 to 60\n",
      "Data columns (total 6 columns):\n",
      " #   Column             Non-Null Count  Dtype  \n",
      "---  ------             --------------  -----  \n",
      " 0   jmeno              49 non-null     object \n",
      " 1   prijimeni          49 non-null     object \n",
      " 2   telefonni_cislo    49 non-null     object \n",
      " 3   cislo_zamestnance  49 non-null     int64  \n",
      " 4   mesto              49 non-null     object \n",
      " 5   plat               49 non-null     float64\n",
      "dtypes: float64(1), int64(1), object(4)\n",
      "memory usage: 2.7+ KB\n"
     ]
    }
   ],
   "source": [
    "zamestnanci_s_platy = zamestnanci_s_platy.dropna(subset=[\"plat\"])\n",
    "zamestnanci_s_platy.info()"
   ]
  },
  {
   "attachments": {},
   "cell_type": "markdown",
   "metadata": {},
   "source": [
    "průměrný plat zaměstnanců"
   ]
  },
  {
   "cell_type": "code",
   "execution_count": 12,
   "metadata": {},
   "outputs": [
    {
     "data": {
      "text/plain": [
       "mesto\n",
       "Liberec    44792.857143\n",
       "Plzeň      44792.857143\n",
       "Praha      43295.238095\n",
       "Name: plat, dtype: float64"
      ]
     },
     "execution_count": 12,
     "metadata": {},
     "output_type": "execute_result"
    }
   ],
   "source": [
    "zamestnanci_s_platy.groupby('mesto')['plat'].mean()"
   ]
  },
  {
   "cell_type": "code",
   "execution_count": 13,
   "metadata": {},
   "outputs": [
    {
     "data": {
      "text/html": [
       "<div>\n",
       "<style scoped>\n",
       "    .dataframe tbody tr th:only-of-type {\n",
       "        vertical-align: middle;\n",
       "    }\n",
       "\n",
       "    .dataframe tbody tr th {\n",
       "        vertical-align: top;\n",
       "    }\n",
       "\n",
       "    .dataframe thead th {\n",
       "        text-align: right;\n",
       "    }\n",
       "</style>\n",
       "<table border=\"1\" class=\"dataframe\">\n",
       "  <thead>\n",
       "    <tr style=\"text-align: right;\">\n",
       "      <th></th>\n",
       "      <th>date</th>\n",
       "      <th>hours</th>\n",
       "      <th>project</th>\n",
       "      <th>emloyee_id</th>\n",
       "    </tr>\n",
       "  </thead>\n",
       "  <tbody>\n",
       "    <tr>\n",
       "      <th>0</th>\n",
       "      <td>2021-02-01</td>\n",
       "      <td>2.5</td>\n",
       "      <td>F30</td>\n",
       "      <td>13</td>\n",
       "    </tr>\n",
       "    <tr>\n",
       "      <th>1</th>\n",
       "      <td>2021-02-01</td>\n",
       "      <td>3.4</td>\n",
       "      <td>W05</td>\n",
       "      <td>70</td>\n",
       "    </tr>\n",
       "    <tr>\n",
       "      <th>2</th>\n",
       "      <td>2021-02-01</td>\n",
       "      <td>2.1</td>\n",
       "      <td>JL9</td>\n",
       "      <td>72</td>\n",
       "    </tr>\n",
       "    <tr>\n",
       "      <th>3</th>\n",
       "      <td>2021-02-01</td>\n",
       "      <td>5.2</td>\n",
       "      <td>F30</td>\n",
       "      <td>3</td>\n",
       "    </tr>\n",
       "    <tr>\n",
       "      <th>4</th>\n",
       "      <td>2021-02-01</td>\n",
       "      <td>2.4</td>\n",
       "      <td>TE1</td>\n",
       "      <td>54</td>\n",
       "    </tr>\n",
       "    <tr>\n",
       "      <th>5</th>\n",
       "      <td>2021-02-01</td>\n",
       "      <td>4.1</td>\n",
       "      <td>TE1</td>\n",
       "      <td>83</td>\n",
       "    </tr>\n",
       "    <tr>\n",
       "      <th>6</th>\n",
       "      <td>2021-02-01</td>\n",
       "      <td>5.4</td>\n",
       "      <td>W05</td>\n",
       "      <td>92</td>\n",
       "    </tr>\n",
       "    <tr>\n",
       "      <th>7</th>\n",
       "      <td>2021-02-01</td>\n",
       "      <td>2.2</td>\n",
       "      <td>YLI</td>\n",
       "      <td>34</td>\n",
       "    </tr>\n",
       "    <tr>\n",
       "      <th>8</th>\n",
       "      <td>2021-02-01</td>\n",
       "      <td>2.7</td>\n",
       "      <td>YLI</td>\n",
       "      <td>84</td>\n",
       "    </tr>\n",
       "    <tr>\n",
       "      <th>9</th>\n",
       "      <td>2021-02-01</td>\n",
       "      <td>4.4</td>\n",
       "      <td>W05</td>\n",
       "      <td>30</td>\n",
       "    </tr>\n",
       "    <tr>\n",
       "      <th>10</th>\n",
       "      <td>2021-02-02</td>\n",
       "      <td>5.6</td>\n",
       "      <td>F30</td>\n",
       "      <td>53</td>\n",
       "    </tr>\n",
       "    <tr>\n",
       "      <th>11</th>\n",
       "      <td>2021-02-02</td>\n",
       "      <td>2.6</td>\n",
       "      <td>W05</td>\n",
       "      <td>47</td>\n",
       "    </tr>\n",
       "    <tr>\n",
       "      <th>12</th>\n",
       "      <td>2021-02-02</td>\n",
       "      <td>2.4</td>\n",
       "      <td>YLI</td>\n",
       "      <td>44</td>\n",
       "    </tr>\n",
       "    <tr>\n",
       "      <th>13</th>\n",
       "      <td>2021-02-02</td>\n",
       "      <td>3.1</td>\n",
       "      <td>YLI</td>\n",
       "      <td>40</td>\n",
       "    </tr>\n",
       "    <tr>\n",
       "      <th>14</th>\n",
       "      <td>2021-02-02</td>\n",
       "      <td>5.3</td>\n",
       "      <td>YLI</td>\n",
       "      <td>10</td>\n",
       "    </tr>\n",
       "    <tr>\n",
       "      <th>15</th>\n",
       "      <td>2021-02-02</td>\n",
       "      <td>3.6</td>\n",
       "      <td>YLI</td>\n",
       "      <td>53</td>\n",
       "    </tr>\n",
       "    <tr>\n",
       "      <th>16</th>\n",
       "      <td>2021-02-02</td>\n",
       "      <td>5.6</td>\n",
       "      <td>F30</td>\n",
       "      <td>56</td>\n",
       "    </tr>\n",
       "    <tr>\n",
       "      <th>17</th>\n",
       "      <td>2021-02-03</td>\n",
       "      <td>4.0</td>\n",
       "      <td>W05</td>\n",
       "      <td>53</td>\n",
       "    </tr>\n",
       "    <tr>\n",
       "      <th>18</th>\n",
       "      <td>2021-02-03</td>\n",
       "      <td>4.6</td>\n",
       "      <td>TE1</td>\n",
       "      <td>86</td>\n",
       "    </tr>\n",
       "    <tr>\n",
       "      <th>19</th>\n",
       "      <td>2021-02-03</td>\n",
       "      <td>2.6</td>\n",
       "      <td>F30</td>\n",
       "      <td>18</td>\n",
       "    </tr>\n",
       "    <tr>\n",
       "      <th>20</th>\n",
       "      <td>2021-02-03</td>\n",
       "      <td>2.8</td>\n",
       "      <td>TE1</td>\n",
       "      <td>47</td>\n",
       "    </tr>\n",
       "    <tr>\n",
       "      <th>21</th>\n",
       "      <td>2021-02-03</td>\n",
       "      <td>2.6</td>\n",
       "      <td>YLI</td>\n",
       "      <td>34</td>\n",
       "    </tr>\n",
       "    <tr>\n",
       "      <th>22</th>\n",
       "      <td>2021-02-03</td>\n",
       "      <td>3.7</td>\n",
       "      <td>YLI</td>\n",
       "      <td>96</td>\n",
       "    </tr>\n",
       "    <tr>\n",
       "      <th>23</th>\n",
       "      <td>2021-02-03</td>\n",
       "      <td>5.2</td>\n",
       "      <td>W05</td>\n",
       "      <td>57</td>\n",
       "    </tr>\n",
       "    <tr>\n",
       "      <th>24</th>\n",
       "      <td>2021-02-03</td>\n",
       "      <td>5.5</td>\n",
       "      <td>W05</td>\n",
       "      <td>40</td>\n",
       "    </tr>\n",
       "    <tr>\n",
       "      <th>25</th>\n",
       "      <td>2021-02-03</td>\n",
       "      <td>5.4</td>\n",
       "      <td>YLI</td>\n",
       "      <td>86</td>\n",
       "    </tr>\n",
       "    <tr>\n",
       "      <th>26</th>\n",
       "      <td>2021-02-03</td>\n",
       "      <td>2.1</td>\n",
       "      <td>TE1</td>\n",
       "      <td>87</td>\n",
       "    </tr>\n",
       "  </tbody>\n",
       "</table>\n",
       "</div>"
      ],
      "text/plain": [
       "          date  hours project  emloyee_id\n",
       "0   2021-02-01    2.5     F30          13\n",
       "1   2021-02-01    3.4     W05          70\n",
       "2   2021-02-01    2.1     JL9          72\n",
       "3   2021-02-01    5.2     F30           3\n",
       "4   2021-02-01    2.4     TE1          54\n",
       "5   2021-02-01    4.1     TE1          83\n",
       "6   2021-02-01    5.4     W05          92\n",
       "7   2021-02-01    2.2     YLI          34\n",
       "8   2021-02-01    2.7     YLI          84\n",
       "9   2021-02-01    4.4     W05          30\n",
       "10  2021-02-02    5.6     F30          53\n",
       "11  2021-02-02    2.6     W05          47\n",
       "12  2021-02-02    2.4     YLI          44\n",
       "13  2021-02-02    3.1     YLI          40\n",
       "14  2021-02-02    5.3     YLI          10\n",
       "15  2021-02-02    3.6     YLI          53\n",
       "16  2021-02-02    5.6     F30          56\n",
       "17  2021-02-03    4.0     W05          53\n",
       "18  2021-02-03    4.6     TE1          86\n",
       "19  2021-02-03    2.6     F30          18\n",
       "20  2021-02-03    2.8     TE1          47\n",
       "21  2021-02-03    2.6     YLI          34\n",
       "22  2021-02-03    3.7     YLI          96\n",
       "23  2021-02-03    5.2     W05          57\n",
       "24  2021-02-03    5.5     W05          40\n",
       "25  2021-02-03    5.4     YLI          86\n",
       "26  2021-02-03    2.1     TE1          87"
      ]
     },
     "execution_count": 13,
     "metadata": {},
     "output_type": "execute_result"
    }
   ],
   "source": [
    "vykazy = pandas.read_csv(\"vykazy.csv\")\n",
    "vykazy\n"
   ]
  },
  {
   "cell_type": "code",
   "execution_count": 26,
   "metadata": {},
   "outputs": [
    {
     "data": {
      "text/plain": [
       "project\n",
       "F30    21.5\n",
       "JL9     2.1\n",
       "TE1    16.0\n",
       "W05    30.5\n",
       "YLI    31.0\n",
       "Name: hours, dtype: float64"
      ]
     },
     "execution_count": 26,
     "metadata": {},
     "output_type": "execute_result"
    }
   ],
   "source": [
    "vykazy.groupby('project')['hours'].sum()"
   ]
  },
  {
   "cell_type": "code",
   "execution_count": 15,
   "metadata": {},
   "outputs": [],
   "source": [
    "import pandas as pd"
   ]
  },
  {
   "cell_type": "code",
   "execution_count": 16,
   "metadata": {},
   "outputs": [
    {
     "name": "stdout",
     "output_type": "stream",
     "text": [
      "<class 'pandas.core.frame.DataFrame'>\n",
      "RangeIndex: 27 entries, 0 to 26\n",
      "Data columns (total 4 columns):\n",
      " #   Column             Non-Null Count  Dtype  \n",
      "---  ------             --------------  -----  \n",
      " 0   date               27 non-null     object \n",
      " 1   hours              27 non-null     float64\n",
      " 2   project            27 non-null     object \n",
      " 3   cislo_zamestnance  27 non-null     int64  \n",
      "dtypes: float64(1), int64(1), object(2)\n",
      "memory usage: 992.0+ bytes\n"
     ]
    }
   ],
   "source": [
    "vykazy_prejmenovani = vykazy.rename(columns={'emloyee_id':'cislo_zamestnance'}, inplace=False)\n",
    "vykazy_prejmenovani.info()\n",
    "vykazy_prejmenovani.head()\n",
    "vykazy_prejmenovani.to_csv('vykazy_prejmenovani.csv', index=False)"
   ]
  },
  {
   "cell_type": "code",
   "execution_count": 17,
   "metadata": {},
   "outputs": [
    {
     "name": "stdout",
     "output_type": "stream",
     "text": [
      "<class 'pandas.core.frame.DataFrame'>\n",
      "Int64Index: 66 entries, 0 to 65\n",
      "Data columns (total 8 columns):\n",
      " #   Column             Non-Null Count  Dtype  \n",
      "---  ------             --------------  -----  \n",
      " 0   jmeno              66 non-null     object \n",
      " 1   prijimeni          66 non-null     object \n",
      " 2   telefonni_cislo    66 non-null     object \n",
      " 3   cislo_zamestnance  66 non-null     int64  \n",
      " 4   mesto              66 non-null     object \n",
      " 5   date               24 non-null     object \n",
      " 6   hours              24 non-null     float64\n",
      " 7   project            24 non-null     object \n",
      "dtypes: float64(1), int64(1), object(6)\n",
      "memory usage: 4.6+ KB\n"
     ]
    },
    {
     "data": {
      "text/html": [
       "<div>\n",
       "<style scoped>\n",
       "    .dataframe tbody tr th:only-of-type {\n",
       "        vertical-align: middle;\n",
       "    }\n",
       "\n",
       "    .dataframe tbody tr th {\n",
       "        vertical-align: top;\n",
       "    }\n",
       "\n",
       "    .dataframe thead th {\n",
       "        text-align: right;\n",
       "    }\n",
       "</style>\n",
       "<table border=\"1\" class=\"dataframe\">\n",
       "  <thead>\n",
       "    <tr style=\"text-align: right;\">\n",
       "      <th></th>\n",
       "      <th>jmeno</th>\n",
       "      <th>prijimeni</th>\n",
       "      <th>telefonni_cislo</th>\n",
       "      <th>cislo_zamestnance</th>\n",
       "      <th>mesto</th>\n",
       "      <th>date</th>\n",
       "      <th>hours</th>\n",
       "      <th>project</th>\n",
       "    </tr>\n",
       "  </thead>\n",
       "  <tbody>\n",
       "    <tr>\n",
       "      <th>0</th>\n",
       "      <td>Brian</td>\n",
       "      <td>Hall</td>\n",
       "      <td>+421 949 656 098</td>\n",
       "      <td>30</td>\n",
       "      <td>Praha</td>\n",
       "      <td>2021-02-01</td>\n",
       "      <td>4.4</td>\n",
       "      <td>W05</td>\n",
       "    </tr>\n",
       "    <tr>\n",
       "      <th>1</th>\n",
       "      <td>Marta</td>\n",
       "      <td>Kolářová</td>\n",
       "      <td>730 456 163</td>\n",
       "      <td>32</td>\n",
       "      <td>Praha</td>\n",
       "      <td>NaN</td>\n",
       "      <td>NaN</td>\n",
       "      <td>NaN</td>\n",
       "    </tr>\n",
       "    <tr>\n",
       "      <th>2</th>\n",
       "      <td>John</td>\n",
       "      <td>Moravec</td>\n",
       "      <td>725 092 179</td>\n",
       "      <td>33</td>\n",
       "      <td>Praha</td>\n",
       "      <td>NaN</td>\n",
       "      <td>NaN</td>\n",
       "      <td>NaN</td>\n",
       "    </tr>\n",
       "    <tr>\n",
       "      <th>3</th>\n",
       "      <td>Dominika</td>\n",
       "      <td>Kopecká</td>\n",
       "      <td>722 747 626</td>\n",
       "      <td>34</td>\n",
       "      <td>Praha</td>\n",
       "      <td>2021-02-01</td>\n",
       "      <td>2.2</td>\n",
       "      <td>YLI</td>\n",
       "    </tr>\n",
       "    <tr>\n",
       "      <th>4</th>\n",
       "      <td>Dominika</td>\n",
       "      <td>Kopecká</td>\n",
       "      <td>722 747 626</td>\n",
       "      <td>34</td>\n",
       "      <td>Praha</td>\n",
       "      <td>2021-02-03</td>\n",
       "      <td>2.6</td>\n",
       "      <td>YLI</td>\n",
       "    </tr>\n",
       "  </tbody>\n",
       "</table>\n",
       "</div>"
      ],
      "text/plain": [
       "      jmeno prijimeni   telefonni_cislo  cislo_zamestnance  mesto        date  \\\n",
       "0     Brian      Hall  +421 949 656 098                 30  Praha  2021-02-01   \n",
       "1     Marta  Kolářová       730 456 163                 32  Praha         NaN   \n",
       "2      John   Moravec       725 092 179                 33  Praha         NaN   \n",
       "3  Dominika   Kopecká       722 747 626                 34  Praha  2021-02-01   \n",
       "4  Dominika   Kopecká       722 747 626                 34  Praha  2021-02-03   \n",
       "\n",
       "   hours project  \n",
       "0    4.4     W05  \n",
       "1    NaN     NaN  \n",
       "2    NaN     NaN  \n",
       "3    2.2     YLI  \n",
       "4    2.6     YLI  "
      ]
     },
     "execution_count": 17,
     "metadata": {},
     "output_type": "execute_result"
    }
   ],
   "source": [
    "statistika_vykazanych_hodin = pandas.merge(zamestnanci,vykazy_prejmenovani, on=['cislo_zamestnance'], how =\"left\")\n",
    "statistika_vykazanych_hodin.info()\n",
    "statistika_vykazanych_hodin.head()"
   ]
  },
  {
   "cell_type": "code",
   "execution_count": 24,
   "metadata": {},
   "outputs": [
    {
     "data": {
      "text/plain": [
       "mesto\n",
       "Liberec    15.6\n",
       "Plzeň      15.6\n",
       "Praha      57.5\n",
       "Name: hours, dtype: float64"
      ]
     },
     "execution_count": 24,
     "metadata": {},
     "output_type": "execute_result"
    }
   ],
   "source": [
    "statistika_vykazanych_hodin.groupby(\"mesto\")[\"hours\"].sum()"
   ]
  },
  {
   "cell_type": "code",
   "execution_count": 25,
   "metadata": {},
   "outputs": [
    {
     "data": {
      "text/plain": [
       "project\n",
       "F30    31.8\n",
       "JL9     2.1\n",
       "TE1     5.2\n",
       "W05    25.1\n",
       "YLI    24.5\n",
       "Name: hours, dtype: float64"
      ]
     },
     "execution_count": 25,
     "metadata": {},
     "output_type": "execute_result"
    }
   ],
   "source": [
    "statistika_vykazanych_hodin.groupby(\"project\")[\"hours\"].sum()"
   ]
  }
 ],
 "metadata": {
  "kernelspec": {
   "display_name": "Python 3",
   "language": "python",
   "name": "python3"
  },
  "language_info": {
   "codemirror_mode": {
    "name": "ipython",
    "version": 3
   },
   "file_extension": ".py",
   "mimetype": "text/x-python",
   "name": "python",
   "nbconvert_exporter": "python",
   "pygments_lexer": "ipython3",
   "version": "3.11.1"
  },
  "orig_nbformat": 4
 },
 "nbformat": 4,
 "nbformat_minor": 2
}
